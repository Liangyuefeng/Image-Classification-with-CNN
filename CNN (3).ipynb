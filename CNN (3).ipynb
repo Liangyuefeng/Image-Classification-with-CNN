{
  "nbformat": 4,
  "nbformat_minor": 0,
  "metadata": {
    "accelerator": "GPU",
    "colab": {
      "name": "CNN.ipynb",
      "provenance": [],
      "collapsed_sections": []
    },
    "kernelspec": {
      "display_name": "Python 3",
      "language": "python",
      "name": "python3"
    },
    "language_info": {
      "codemirror_mode": {
        "name": "ipython",
        "version": 3
      },
      "file_extension": ".py",
      "mimetype": "text/x-python",
      "name": "python",
      "nbconvert_exporter": "python",
      "pygments_lexer": "ipython3",
      "version": "3.7.0"
    }
  },
  "cells": [
    {
      "cell_type": "markdown",
      "metadata": {
        "colab_type": "text",
        "id": "IdnsT8VYCSYF"
      },
      "source": [
        "## COMP5623 Coursework on Image Classification with Convolutional Neural Networks \n",
        "\n",
        "Starter code."
      ]
    },
    {
      "cell_type": "code",
      "metadata": {
        "colab_type": "code",
        "id": "eKS20wjsCSYI",
        "colab": {}
      },
      "source": [
        "import torch\n",
        "import torchvision\n",
        "import torch.optim as optim\n",
        "import torch.nn as nn\n",
        "import torchvision.transforms as transforms\n",
        "from  torch.utils.data import Dataset\n",
        "\n",
        "import torch.nn.functional as F\n",
        "from sklearn.metrics import confusion_matrix\n",
        "from skimage import io, transform\n",
        "from torch.autograd import Variable\n",
        "import matplotlib.pyplot as plt\n",
        "from tqdm import tqdm\n",
        "from PIL import Image\n",
        "import pandas as pd\n",
        "import numpy as np\n",
        "import csv\n",
        "import timeit\n",
        "import os\n",
        "import math\n",
        "import cv2"
      ],
      "execution_count": 0,
      "outputs": []
    },
    {
      "cell_type": "markdown",
      "metadata": {
        "colab_type": "text",
        "id": "IpRGGlofCSYM"
      },
      "source": [
        "### Part I\n",
        "\n",
        "The first part of the assignment is to build a CNN and train it on a subset of the ImageNet dataset. We will first create a dataframe with all the references to the images and their labels.\n",
        "\n",
        "To download the images into your work environment, clone into a git respository containing the images."
      ]
    },
    {
      "cell_type": "code",
      "metadata": {
        "colab_type": "code",
        "id": "EqhQboSCCSYN",
        "outputId": "56a42530-a5b5-422f-e10e-977855a67d95",
        "colab": {
          "base_uri": "https://localhost:8080/",
          "height": 118
        }
      },
      "source": [
        "! git clone https://github.com/MohammedAlghamdi/imagenet10.git"
      ],
      "execution_count": 2,
      "outputs": [
        {
          "output_type": "stream",
          "text": [
            "Cloning into 'imagenet10'...\n",
            "remote: Enumerating objects: 10019, done.\u001b[K\n",
            "remote: Total 10019 (delta 0), reused 0 (delta 0), pack-reused 10019\u001b[K\n",
            "Receiving objects: 100% (10019/10019), 966.71 MiB | 55.32 MiB/s, done.\n",
            "Resolving deltas: 100% (2/2), done.\n",
            "Checking out files: 100% (10002/10002), done.\n"
          ],
          "name": "stdout"
        }
      ]
    },
    {
      "cell_type": "markdown",
      "metadata": {
        "colab_type": "text",
        "id": "8edZnYShg7M1"
      },
      "source": [
        "Check that the repository is there:"
      ]
    },
    {
      "cell_type": "code",
      "metadata": {
        "colab_type": "code",
        "id": "i2RIZGHaCVAC",
        "outputId": "6c7d4d9d-0f8d-4aa8-f913-a6ea00f6718c",
        "colab": {
          "base_uri": "https://localhost:8080/",
          "height": 34
        }
      },
      "source": [
        "! ls"
      ],
      "execution_count": 3,
      "outputs": [
        {
          "output_type": "stream",
          "text": [
            "imagenet10  sample_data\n"
          ],
          "name": "stdout"
        }
      ]
    },
    {
      "cell_type": "code",
      "metadata": {
        "colab_type": "code",
        "id": "47tv-wIQCTcS",
        "colab": {}
      },
      "source": [
        "root_dir = \"imagenet10/train_set/\"\n",
        "class_names = [\n",
        "  \"baboon\",\n",
        "  \"banana\",\n",
        "  \"canoe\",\n",
        "  \"cat\",\n",
        "  \"desk\",\n",
        "  \"drill\",\n",
        "  \"dumbbell\",\n",
        "  \"football\",\n",
        "  \"mug\",\n",
        "  \"orange\",\n",
        "]"
      ],
      "execution_count": 0,
      "outputs": []
    },
    {
      "cell_type": "markdown",
      "metadata": {
        "colab_type": "text",
        "id": "L6oMdWl5CSYR"
      },
      "source": [
        "A helper function for reading in images and assigning labels."
      ]
    },
    {
      "cell_type": "code",
      "metadata": {
        "colab_type": "code",
        "id": "tQfcD3jyCSYT",
        "colab": {}
      },
      "source": [
        "def get_meta(root_dir, dirs):\n",
        "    \"\"\" Fetches the meta data for all the images and assigns labels.\n",
        "    \"\"\"\n",
        "    paths, classes = [], []\n",
        "    for i, dir_ in enumerate(dirs):\n",
        "        for entry in os.scandir(root_dir + dir_):\n",
        "            if (entry.is_file()):\n",
        "                paths.append(entry.path)\n",
        "                classes.append(i)\n",
        "                \n",
        "    return paths, classes"
      ],
      "execution_count": 0,
      "outputs": []
    },
    {
      "cell_type": "markdown",
      "metadata": {
        "colab_type": "text",
        "id": "0J967KW0CSYX"
      },
      "source": [
        "Now we create a dataframe using all the data."
      ]
    },
    {
      "cell_type": "code",
      "metadata": {
        "colab_type": "code",
        "id": "8gDPs1NCCSYY",
        "colab": {}
      },
      "source": [
        "# Benign images we will assign class 0, and malignant as 1\n",
        "paths, classes = get_meta(root_dir, class_names)\n",
        "\n",
        "data = {\n",
        "    'path': paths,\n",
        "    'class': classes\n",
        "}\n",
        "\n",
        "data_df = pd.DataFrame(data, columns=['path', 'class'])\n",
        "data_df = data_df.sample(frac=1).reset_index(drop=True) # Shuffles the data"
      ],
      "execution_count": 0,
      "outputs": []
    },
    {
      "cell_type": "markdown",
      "metadata": {
        "colab_type": "text",
        "id": "jRUDj3WihItY"
      },
      "source": [
        "View some sample data."
      ]
    },
    {
      "cell_type": "code",
      "metadata": {
        "colab_type": "code",
        "id": "mK2GPzfVCSYc",
        "outputId": "ed42d0d6-a606-4879-942d-7b91870687e6",
        "colab": {
          "base_uri": "https://localhost:8080/",
          "height": 212
        }
      },
      "source": [
        "print(\"Found\", len(data_df), \"images.\")\n",
        "data_df.head()"
      ],
      "execution_count": 7,
      "outputs": [
        {
          "output_type": "stream",
          "text": [
            "Found 9000 images.\n"
          ],
          "name": "stdout"
        },
        {
          "output_type": "execute_result",
          "data": {
            "text/html": [
              "<div>\n",
              "<style scoped>\n",
              "    .dataframe tbody tr th:only-of-type {\n",
              "        vertical-align: middle;\n",
              "    }\n",
              "\n",
              "    .dataframe tbody tr th {\n",
              "        vertical-align: top;\n",
              "    }\n",
              "\n",
              "    .dataframe thead th {\n",
              "        text-align: right;\n",
              "    }\n",
              "</style>\n",
              "<table border=\"1\" class=\"dataframe\">\n",
              "  <thead>\n",
              "    <tr style=\"text-align: right;\">\n",
              "      <th></th>\n",
              "      <th>path</th>\n",
              "      <th>class</th>\n",
              "    </tr>\n",
              "  </thead>\n",
              "  <tbody>\n",
              "    <tr>\n",
              "      <th>0</th>\n",
              "      <td>imagenet10/train_set/drill/n03239726_1686.JPEG</td>\n",
              "      <td>5</td>\n",
              "    </tr>\n",
              "    <tr>\n",
              "      <th>1</th>\n",
              "      <td>imagenet10/train_set/football/n04254680_2170.JPEG</td>\n",
              "      <td>7</td>\n",
              "    </tr>\n",
              "    <tr>\n",
              "      <th>2</th>\n",
              "      <td>imagenet10/train_set/drill/n03239726_19589.JPEG</td>\n",
              "      <td>5</td>\n",
              "    </tr>\n",
              "    <tr>\n",
              "      <th>3</th>\n",
              "      <td>imagenet10/train_set/desk/n03179701_46928.JPEG</td>\n",
              "      <td>4</td>\n",
              "    </tr>\n",
              "    <tr>\n",
              "      <th>4</th>\n",
              "      <td>imagenet10/train_set/banana/n07753592_7578.JPEG</td>\n",
              "      <td>1</td>\n",
              "    </tr>\n",
              "  </tbody>\n",
              "</table>\n",
              "</div>"
            ],
            "text/plain": [
              "                                                path  class\n",
              "0     imagenet10/train_set/drill/n03239726_1686.JPEG      5\n",
              "1  imagenet10/train_set/football/n04254680_2170.JPEG      7\n",
              "2    imagenet10/train_set/drill/n03239726_19589.JPEG      5\n",
              "3     imagenet10/train_set/desk/n03179701_46928.JPEG      4\n",
              "4    imagenet10/train_set/banana/n07753592_7578.JPEG      1"
            ]
          },
          "metadata": {
            "tags": []
          },
          "execution_count": 7
        }
      ]
    },
    {
      "cell_type": "markdown",
      "metadata": {
        "colab_type": "text",
        "id": "Ai3uvziWCSYh"
      },
      "source": [
        "Now we will create the Dataset class."
      ]
    },
    {
      "cell_type": "code",
      "metadata": {
        "colab_type": "code",
        "id": "EyUb-rzQCSYi",
        "colab": {}
      },
      "source": [
        "class ImageNet10(Dataset):\n",
        "    \"\"\" ImageNet10 dataset. \"\"\"\n",
        "\n",
        "    def __init__(self, df, transform=None):\n",
        "        \"\"\"\n",
        "        Args:\n",
        "            image_dir (string): Directory with all the images\n",
        "            df (DataFrame object): Dataframe containing the images, paths and classes\n",
        "            transform (callable, optional): Optional transform to be applied\n",
        "                on a sample.\n",
        "        \"\"\"\n",
        "        self.df = df\n",
        "        self.transform = transform\n",
        "\n",
        "    def __len__(self):\n",
        "        return len(self.df)\n",
        "\n",
        "    def __getitem__(self, index):\n",
        "        # Load image from path and get label\n",
        "        x = Image.open(self.df['path'][index])\n",
        "        try:\n",
        "          x = x.convert('RGB') # To deal with some grayscale images in the data\n",
        "        except:\n",
        "          pass\n",
        "        y = torch.tensor(int(self.df['class'][index]))\n",
        "\n",
        "        if self.transform:\n",
        "            x = self.transform(x)\n",
        "\n",
        "        return x, y"
      ],
      "execution_count": 0,
      "outputs": []
    },
    {
      "cell_type": "markdown",
      "metadata": {
        "colab_type": "text",
        "id": "vqtRjBozCSYk"
      },
      "source": [
        "Compute what we should normalise the dataset to."
      ]
    },
    {
      "cell_type": "code",
      "metadata": {
        "colab_type": "code",
        "id": "pPqfMPuZCSYl",
        "colab": {}
      },
      "source": [
        "def compute_img_mean_std(image_paths):\n",
        "    \"\"\"\n",
        "        Author: @xinruizhuang. Computing the mean and std of three channel on the whole dataset,\n",
        "        first we should normalize the image from 0-255 to 0-1\n",
        "    \"\"\"\n",
        "\n",
        "    img_h, img_w = 224, 224\n",
        "    imgs = []\n",
        "    means, stdevs = [], []\n",
        "\n",
        "    for i in tqdm(range(len(image_paths))):\n",
        "        img = cv2.imread(image_paths[i])\n",
        "        img = cv2.resize(img, (img_h, img_w))\n",
        "        imgs.append(img)\n",
        "\n",
        "    imgs = np.stack(imgs, axis=3)\n",
        "    print(imgs.shape)\n",
        "\n",
        "    imgs = imgs.astype(np.float32) / 255.\n",
        "\n",
        "    for i in range(3):\n",
        "        pixels = imgs[:, :, i, :].ravel()  # resize to one row\n",
        "        means.append(np.mean(pixels))\n",
        "        stdevs.append(np.std(pixels))\n",
        "\n",
        "    means.reverse()  # BGR --> RGB\n",
        "    stdevs.reverse()\n",
        "\n",
        "    print(\"normMean = {}\".format(means))\n",
        "    print(\"normStd = {}\".format(stdevs))\n",
        "    return means, stdevs\n"
      ],
      "execution_count": 0,
      "outputs": []
    },
    {
      "cell_type": "code",
      "metadata": {
        "colab_type": "code",
        "id": "-_1KSGUe4sEW",
        "outputId": "a6a16191-5e1b-4fd4-8f4f-ad4d7039b7e2",
        "colab": {
          "base_uri": "https://localhost:8080/",
          "height": 296
        }
      },
      "source": [
        "#norm_mean, norm_std = compute_img_mean_std(paths)"
      ],
      "execution_count": 10,
      "outputs": [
        {
          "output_type": "stream",
          "text": [
            " 19%|█▉        | 1717/9000 [00:08<00:34, 212.09it/s]\n"
          ],
          "name": "stderr"
        },
        {
          "output_type": "error",
          "ename": "KeyboardInterrupt",
          "evalue": "ignored",
          "traceback": [
            "\u001b[0;31m---------------------------------------------------------------------------\u001b[0m",
            "\u001b[0;31mKeyboardInterrupt\u001b[0m                         Traceback (most recent call last)",
            "\u001b[0;32m<ipython-input-10-f7546331b166>\u001b[0m in \u001b[0;36m<module>\u001b[0;34m()\u001b[0m\n\u001b[0;32m----> 1\u001b[0;31m \u001b[0mnorm_mean\u001b[0m\u001b[0;34m,\u001b[0m \u001b[0mnorm_std\u001b[0m \u001b[0;34m=\u001b[0m \u001b[0mcompute_img_mean_std\u001b[0m\u001b[0;34m(\u001b[0m\u001b[0mpaths\u001b[0m\u001b[0;34m)\u001b[0m\u001b[0;34m\u001b[0m\u001b[0;34m\u001b[0m\u001b[0m\n\u001b[0m",
            "\u001b[0;32m<ipython-input-9-3c9260f7136d>\u001b[0m in \u001b[0;36mcompute_img_mean_std\u001b[0;34m(image_paths)\u001b[0m\n\u001b[1;32m     10\u001b[0m \u001b[0;34m\u001b[0m\u001b[0m\n\u001b[1;32m     11\u001b[0m     \u001b[0;32mfor\u001b[0m \u001b[0mi\u001b[0m \u001b[0;32min\u001b[0m \u001b[0mtqdm\u001b[0m\u001b[0;34m(\u001b[0m\u001b[0mrange\u001b[0m\u001b[0;34m(\u001b[0m\u001b[0mlen\u001b[0m\u001b[0;34m(\u001b[0m\u001b[0mimage_paths\u001b[0m\u001b[0;34m)\u001b[0m\u001b[0;34m)\u001b[0m\u001b[0;34m)\u001b[0m\u001b[0;34m:\u001b[0m\u001b[0;34m\u001b[0m\u001b[0;34m\u001b[0m\u001b[0m\n\u001b[0;32m---> 12\u001b[0;31m         \u001b[0mimg\u001b[0m \u001b[0;34m=\u001b[0m \u001b[0mcv2\u001b[0m\u001b[0;34m.\u001b[0m\u001b[0mimread\u001b[0m\u001b[0;34m(\u001b[0m\u001b[0mimage_paths\u001b[0m\u001b[0;34m[\u001b[0m\u001b[0mi\u001b[0m\u001b[0;34m]\u001b[0m\u001b[0;34m)\u001b[0m\u001b[0;34m\u001b[0m\u001b[0;34m\u001b[0m\u001b[0m\n\u001b[0m\u001b[1;32m     13\u001b[0m         \u001b[0mimg\u001b[0m \u001b[0;34m=\u001b[0m \u001b[0mcv2\u001b[0m\u001b[0;34m.\u001b[0m\u001b[0mresize\u001b[0m\u001b[0;34m(\u001b[0m\u001b[0mimg\u001b[0m\u001b[0;34m,\u001b[0m \u001b[0;34m(\u001b[0m\u001b[0mimg_h\u001b[0m\u001b[0;34m,\u001b[0m \u001b[0mimg_w\u001b[0m\u001b[0;34m)\u001b[0m\u001b[0;34m)\u001b[0m\u001b[0;34m\u001b[0m\u001b[0;34m\u001b[0m\u001b[0m\n\u001b[1;32m     14\u001b[0m         \u001b[0mimgs\u001b[0m\u001b[0;34m.\u001b[0m\u001b[0mappend\u001b[0m\u001b[0;34m(\u001b[0m\u001b[0mimg\u001b[0m\u001b[0;34m)\u001b[0m\u001b[0;34m\u001b[0m\u001b[0;34m\u001b[0m\u001b[0m\n",
            "\u001b[0;31mKeyboardInterrupt\u001b[0m: "
          ]
        }
      ]
    },
    {
      "cell_type": "code",
      "metadata": {
        "colab_type": "code",
        "id": "LLA1yvk0MLB7",
        "colab": {}
      },
      "source": [
        "norm_mean = [0.5228344, 0.47988218, 0.40605018]\n",
        "norm_std = [0.29770824, 0.28884, 0.31178245]"
      ],
      "execution_count": 0,
      "outputs": []
    },
    {
      "cell_type": "markdown",
      "metadata": {
        "colab_type": "text",
        "id": "RqrG3FCUCSYo"
      },
      "source": [
        "Now let's create the transforms to normalise and turn our data into tensors."
      ]
    },
    {
      "cell_type": "code",
      "metadata": {
        "colab_type": "code",
        "id": "OVeZpgM-CSYq",
        "colab": {}
      },
      "source": [
        "data_transform = transforms.Compose([\n",
        "        transforms.Resize(256),\n",
        "        transforms.CenterCrop(256),\n",
        "        transforms.ToTensor(),\n",
        "        transforms.Normalize(norm_mean, norm_std),\n",
        "    ])"
      ],
      "execution_count": 0,
      "outputs": []
    },
    {
      "cell_type": "markdown",
      "metadata": {
        "colab_type": "text",
        "id": "cAPzCfr2CSYt"
      },
      "source": [
        "Let's split the data into train and test sets and instantiate our new ISIC_Dataset objects."
      ]
    },
    {
      "cell_type": "code",
      "metadata": {
        "colab_type": "code",
        "id": "POCexxXjCSYu",
        "colab": {}
      },
      "source": [
        "train_split = 0.70 # Defines the ratio of train/valid/test data.\n",
        "valid_split = 0.10\n",
        "\n",
        "train_size = int(len(data_df)*train_split)\n",
        "valid_size = int(len(data_df)*valid_split)\n",
        "\n",
        "ins_dataset_train = ImageNet10(\n",
        "    df=data_df[:train_size],\n",
        "    transform=data_transform,\n",
        ")\n",
        "\n",
        "ins_dataset_valid = ImageNet10(\n",
        "    df=data_df[train_size:(train_size + valid_size)].reset_index(drop=True),\n",
        "    transform=data_transform,\n",
        ")\n",
        "\n",
        "ins_dataset_test = ImageNet10(\n",
        "    df=data_df[(train_size + valid_size):].reset_index(drop=True),\n",
        "    transform=data_transform,\n",
        ")"
      ],
      "execution_count": 0,
      "outputs": []
    },
    {
      "cell_type": "markdown",
      "metadata": {
        "colab_type": "text",
        "id": "PzVfNzvmhTGJ"
      },
      "source": [
        "You will need to create DataLoaders for the datasets."
      ]
    },
    {
      "cell_type": "code",
      "metadata": {
        "colab_type": "code",
        "id": "8DeAdM2VMFGI",
        "colab": {}
      },
      "source": [
        "train_loader = torch.utils.data.DataLoader(\n",
        "    ins_dataset_train,\n",
        "    batch_size=16,\n",
        "    shuffle=True,\n",
        "    num_workers=2\n",
        ")\n",
        "\n",
        "\n",
        "test_loader = torch.utils.data.DataLoader(\n",
        "    ins_dataset_test,\n",
        "    batch_size=32, # Forward pass only so batch size can be larger\n",
        "    shuffle=False,\n",
        "    num_workers=2\n",
        ")\n",
        "\n",
        "val_loader = torch.utils.data.DataLoader(\n",
        "    ins_dataset_valid, \n",
        "    batch_size=16,\n",
        "    shuffle=True,  \n",
        "    num_workers=2)\n",
        "\n",
        "classes=np.arange(0,10)\n"
      ],
      "execution_count": 0,
      "outputs": []
    },
    {
      "cell_type": "markdown",
      "metadata": {
        "colab_type": "text",
        "id": "X00vuzPWhY5h"
      },
      "source": [
        "A framework for the ConvNet model, missing all layers except the final fully-connected layer:"
      ]
    },
    {
      "cell_type": "code",
      "metadata": {
        "colab_type": "code",
        "id": "cZhS9q9twEXH",
        "outputId": "96be6881-a580-4f09-d5cc-a35e18b18b73",
        "colab": {
          "base_uri": "https://localhost:8080/",
          "height": 487
        }
      },
      "source": [
        "# Convolutional neural network\n",
        "class ConvNet(nn.Module):\n",
        "    \n",
        "    def __init__(self, num_classes=10):\n",
        "        super(ConvNet, self).__init__()\n",
        "  \n",
        "        # Add network layers here\n",
        "        self.conv1=torch.nn.Sequential(\n",
        "            nn.Conv2d(in_channels=3,out_channels=16,kernel_size=5),\n",
        "            nn.ReLU(),\n",
        "            nn.MaxPool2d(kernel_size=2,stride=2),\n",
        "            torch.nn.Dropout(0.6)\n",
        "        )\n",
        "\n",
        "\n",
        "        self.conv2=torch.nn.Sequential(\n",
        "            nn.Conv2d(in_channels=16,out_channels=24,kernel_size=5),\n",
        "            nn.ReLU(),\n",
        "            nn.MaxPool2d(kernel_size=2,stride=2),\n",
        "            torch.nn.Dropout(0.6)\n",
        "        )\n",
        "\n",
        "        self.conv3=torch.nn.Sequential(\n",
        "           nn.Conv2d(in_channels=24,out_channels=32,kernel_size=5),\n",
        "           nn.ReLU(),\n",
        "           nn.MaxPool2d(kernel_size=2,stride=2),\n",
        "           torch.nn.Dropout(0.5)\n",
        "        )\n",
        "\n",
        "        self.conv4=torch.nn.Sequential(\n",
        "            nn.Conv2d(in_channels=32,out_channels=64,kernel_size=5),\n",
        "            nn.ReLU(),\n",
        "            nn.MaxPool2d(kernel_size=2,stride=2),\n",
        "            torch.nn.Dropout(0.6)\n",
        "        )\n",
        "      \n",
        "        \n",
        "        self.fc1 = nn.Linear(9216,512)   # 8*8*128\n",
        "        self.fc2 = nn.Linear(512,num_classes)\n",
        "\n",
        "    def forward(self, x):\n",
        "\n",
        "        # Complete the graph\n",
        "        out = self.conv1(x)\n",
        "        out = self.conv2(out)\n",
        "        out = self.conv3(out)\n",
        "        out = self.conv4(out)\n",
        "        # out = x.reshape(x.size(0), -1) # TODO what does this do? Why do we need it?\n",
        "        out = out.view(out.size(0),-1)\n",
        "        out = self.fc1(out)\n",
        "        out = self.fc2(out)\n",
        "\n",
        "        return out\n",
        "      \n",
        "net = ConvNet()\n",
        "print(net)\n"
      ],
      "execution_count": 14,
      "outputs": [
        {
          "output_type": "stream",
          "text": [
            "ConvNet(\n",
            "  (conv1): Sequential(\n",
            "    (0): Conv2d(3, 16, kernel_size=(5, 5), stride=(1, 1))\n",
            "    (1): ReLU()\n",
            "    (2): MaxPool2d(kernel_size=2, stride=2, padding=0, dilation=1, ceil_mode=False)\n",
            "    (3): Dropout(p=0.6, inplace=False)\n",
            "  )\n",
            "  (conv2): Sequential(\n",
            "    (0): Conv2d(16, 24, kernel_size=(5, 5), stride=(1, 1))\n",
            "    (1): ReLU()\n",
            "    (2): MaxPool2d(kernel_size=2, stride=2, padding=0, dilation=1, ceil_mode=False)\n",
            "    (3): Dropout(p=0.6, inplace=False)\n",
            "  )\n",
            "  (conv3): Sequential(\n",
            "    (0): Conv2d(24, 32, kernel_size=(5, 5), stride=(1, 1))\n",
            "    (1): ReLU()\n",
            "    (2): MaxPool2d(kernel_size=2, stride=2, padding=0, dilation=1, ceil_mode=False)\n",
            "    (3): Dropout(p=0.5, inplace=False)\n",
            "  )\n",
            "  (conv4): Sequential(\n",
            "    (0): Conv2d(32, 64, kernel_size=(5, 5), stride=(1, 1))\n",
            "    (1): ReLU()\n",
            "    (2): MaxPool2d(kernel_size=2, stride=2, padding=0, dilation=1, ceil_mode=False)\n",
            "    (3): Dropout(p=0.6, inplace=False)\n",
            "  )\n",
            "  (fc1): Linear(in_features=9216, out_features=512, bias=True)\n",
            "  (fc2): Linear(in_features=512, out_features=10, bias=True)\n",
            ")\n"
          ],
          "name": "stdout"
        }
      ]
    },
    {
      "cell_type": "code",
      "metadata": {
        "colab_type": "code",
        "id": "gjplp2DnwbWT",
        "outputId": "c9ba17af-816d-44e8-a5a5-d384a297c401",
        "colab": {
          "base_uri": "https://localhost:8080/",
          "height": 34
        }
      },
      "source": [
        "# Device configuration - defaults to CPU unless GPU is available on device\n",
        "device = torch.device('cuda:0' if torch.cuda.is_available() else 'cpu')\n",
        "device"
      ],
      "execution_count": 15,
      "outputs": [
        {
          "output_type": "execute_result",
          "data": {
            "text/plain": [
              "device(type='cuda', index=0)"
            ]
          },
          "metadata": {
            "tags": []
          },
          "execution_count": 15
        }
      ]
    },
    {
      "cell_type": "code",
      "metadata": {
        "colab_type": "code",
        "id": "S6svhXHswh5O",
        "colab": {}
      },
      "source": [
        "model_gpu=ConvNet().to(device)"
      ],
      "execution_count": 0,
      "outputs": []
    },
    {
      "cell_type": "code",
      "metadata": {
        "colab_type": "code",
        "id": "sUsGg1J43DkT",
        "colab": {}
      },
      "source": [
        "import torch.optim as optim          \n",
        " \n",
        "criterion = nn.CrossEntropyLoss()    \n",
        "optimizer = optim.SGD(model_gpu.parameters(), lr=0.1, momentum=0.9)   #optim模块中的SGD梯度优化方式---随机梯度下降\n"
      ],
      "execution_count": 0,
      "outputs": []
    },
    {
      "cell_type": "code",
      "metadata": {
        "colab_type": "code",
        "id": "Whwsm9OTwu5x",
        "colab": {}
      },
      "source": [
        "t_loss = []\n",
        "v_loss = []\n",
        "epochs = []\n",
        "\"\"\" Trains the model for a given number of epochs on the training set. \"\"\"\n",
        "def train_model_epochs(num_epochs):\n",
        "     for epoch in range(num_epochs):\n",
        "      \n",
        "          train_loss=0.0\n",
        "          for i, data in enumerate(train_loader, 0):\n",
        "               images, labels = data\n",
        "\n",
        "               images = images.to(device)\n",
        "               labels = labels.to(device)\n",
        "\n",
        "               # Zero the parameter gradients means to reset them from\n",
        "               # any previous values. By default, gradients accumulate!\n",
        "               optimizer.zero_grad()\n",
        "\n",
        "               # Passing inputs to the model calls the forward() function of\n",
        "               # the Module class, and the outputs value contains the return value\n",
        "               # of forward()\n",
        "               outputs = model_gpu(images)\n",
        "\n",
        "               # Compute the loss based on the true labels\n",
        "               loss = criterion(outputs, labels)\n",
        "\n",
        "               # Backpropagate the error with respect to the loss\n",
        "               loss.backward()\n",
        "\n",
        "               # Updates the parameters based on current gradients and update rule;\n",
        "               # in this case, defined by SGD()\n",
        "               optimizer.step()\n",
        "\n",
        "               # Print our loss\n",
        "               train_loss += loss.item()\n",
        "               if i % 100 == 99:    # print every 100 mini-batches\n",
        "                   print('Epoch / Batch [%d / %d] - train_Loss: %.3f' %\n",
        "                         (epoch + 1, i + 1, train_loss / 1000))\n",
        "                   t_loss.append(train_loss / 1000)\n",
        "                   train_loss = 0.0\n",
        "          \n",
        "\n",
        "    \n",
        "          total_val_loss = 0\n",
        "          for j,val_data in enumerate(val_loader,0):\n",
        "              # Wrap tensors in Variables\n",
        "              inputs, labels = val_data\n",
        "\n",
        "              inputs = inputs.to(device)\n",
        "              labels = labels.to(device)\n",
        " \n",
        "              # Forward pass\n",
        "              val_outputs = model_gpu(inputs)\n",
        "\n",
        "              val_loss = criterion(val_outputs, labels)\n",
        "             \n",
        "              total_val_loss += val_loss.item()\n",
        "              if j % 10 == 9:                         # print every 100 mini-batches\n",
        "                   print('Epoch / Batch [%d / %d] - Val_Loss: %.3f' %\n",
        "                        (epoch + 1, j + 1, total_val_loss / 100))\n",
        "                   v_loss.append(total_val_loss / 100)\n",
        "                   total_val_loss = 0.0\n",
        "                            "
      ],
      "execution_count": 0,
      "outputs": []
    },
    {
      "cell_type": "code",
      "metadata": {
        "colab_type": "code",
        "id": "iEgkAcf0-fMM",
        "outputId": "7b519d0b-6881-4c97-f00c-fcc83cec4649",
        "colab": {
          "base_uri": "https://localhost:8080/",
          "height": 1000
        }
      },
      "source": [
        "# train_model_epochs(num_epochs)\n",
        "\n",
        "gpu_train_time = timeit.timeit(\n",
        "    \"train_model_epochs(num_epochs)\",\n",
        "    setup=\"num_epochs=10\",\n",
        "    number=1,\n",
        "    globals=globals(),\n",
        ")"
      ],
      "execution_count": 19,
      "outputs": [
        {
          "output_type": "stream",
          "text": [
            "Epoch / Batch [1 / 100] - train_Loss: 0.264\n",
            "Epoch / Batch [1 / 200] - train_Loss: 0.237\n",
            "Epoch / Batch [1 / 300] - train_Loss: 0.234\n",
            "Epoch / Batch [1 / 10] - Val_Loss: 0.240\n",
            "Epoch / Batch [1 / 20] - Val_Loss: 0.234\n",
            "Epoch / Batch [1 / 30] - Val_Loss: 0.238\n",
            "Epoch / Batch [1 / 40] - Val_Loss: 0.234\n",
            "Epoch / Batch [1 / 50] - Val_Loss: 0.237\n",
            "Epoch / Batch [2 / 100] - train_Loss: 0.233\n",
            "Epoch / Batch [2 / 200] - train_Loss: 0.231\n",
            "Epoch / Batch [2 / 300] - train_Loss: 0.233\n",
            "Epoch / Batch [2 / 10] - Val_Loss: 0.231\n",
            "Epoch / Batch [2 / 20] - Val_Loss: 0.232\n",
            "Epoch / Batch [2 / 30] - Val_Loss: 0.229\n",
            "Epoch / Batch [2 / 40] - Val_Loss: 0.231\n",
            "Epoch / Batch [2 / 50] - Val_Loss: 0.230\n",
            "Epoch / Batch [3 / 100] - train_Loss: 0.232\n",
            "Epoch / Batch [3 / 200] - train_Loss: 0.232\n",
            "Epoch / Batch [3 / 300] - train_Loss: 0.232\n",
            "Epoch / Batch [3 / 10] - Val_Loss: 0.234\n",
            "Epoch / Batch [3 / 20] - Val_Loss: 0.231\n",
            "Epoch / Batch [3 / 30] - Val_Loss: 0.230\n",
            "Epoch / Batch [3 / 40] - Val_Loss: 0.233\n",
            "Epoch / Batch [3 / 50] - Val_Loss: 0.232\n",
            "Epoch / Batch [4 / 100] - train_Loss: 0.232\n",
            "Epoch / Batch [4 / 200] - train_Loss: 0.232\n",
            "Epoch / Batch [4 / 300] - train_Loss: 0.232\n",
            "Epoch / Batch [4 / 10] - Val_Loss: 0.233\n",
            "Epoch / Batch [4 / 20] - Val_Loss: 0.232\n",
            "Epoch / Batch [4 / 30] - Val_Loss: 0.230\n",
            "Epoch / Batch [4 / 40] - Val_Loss: 0.231\n",
            "Epoch / Batch [4 / 50] - Val_Loss: 0.230\n",
            "Epoch / Batch [5 / 100] - train_Loss: 0.231\n",
            "Epoch / Batch [5 / 200] - train_Loss: 0.232\n",
            "Epoch / Batch [5 / 300] - train_Loss: 0.232\n",
            "Epoch / Batch [5 / 10] - Val_Loss: 0.232\n",
            "Epoch / Batch [5 / 20] - Val_Loss: 0.235\n",
            "Epoch / Batch [5 / 30] - Val_Loss: 0.233\n",
            "Epoch / Batch [5 / 40] - Val_Loss: 0.234\n",
            "Epoch / Batch [5 / 50] - Val_Loss: 0.234\n",
            "Epoch / Batch [6 / 100] - train_Loss: 0.232\n",
            "Epoch / Batch [6 / 200] - train_Loss: 0.232\n",
            "Epoch / Batch [6 / 300] - train_Loss: 0.232\n",
            "Epoch / Batch [6 / 10] - Val_Loss: 0.232\n",
            "Epoch / Batch [6 / 20] - Val_Loss: 0.233\n",
            "Epoch / Batch [6 / 30] - Val_Loss: 0.232\n",
            "Epoch / Batch [6 / 40] - Val_Loss: 0.232\n",
            "Epoch / Batch [6 / 50] - Val_Loss: 0.231\n",
            "Epoch / Batch [7 / 100] - train_Loss: 0.232\n",
            "Epoch / Batch [7 / 200] - train_Loss: 0.232\n",
            "Epoch / Batch [7 / 300] - train_Loss: 0.232\n",
            "Epoch / Batch [7 / 10] - Val_Loss: 0.231\n",
            "Epoch / Batch [7 / 20] - Val_Loss: 0.231\n",
            "Epoch / Batch [7 / 30] - Val_Loss: 0.231\n",
            "Epoch / Batch [7 / 40] - Val_Loss: 0.232\n",
            "Epoch / Batch [7 / 50] - Val_Loss: 0.231\n",
            "Epoch / Batch [8 / 100] - train_Loss: 0.232\n",
            "Epoch / Batch [8 / 200] - train_Loss: 0.232\n",
            "Epoch / Batch [8 / 300] - train_Loss: 0.232\n",
            "Epoch / Batch [8 / 10] - Val_Loss: 0.232\n",
            "Epoch / Batch [8 / 20] - Val_Loss: 0.232\n",
            "Epoch / Batch [8 / 30] - Val_Loss: 0.232\n",
            "Epoch / Batch [8 / 40] - Val_Loss: 0.231\n",
            "Epoch / Batch [8 / 50] - Val_Loss: 0.231\n",
            "Epoch / Batch [9 / 100] - train_Loss: 0.232\n",
            "Epoch / Batch [9 / 200] - train_Loss: 0.232\n",
            "Epoch / Batch [9 / 300] - train_Loss: 0.231\n",
            "Epoch / Batch [9 / 10] - Val_Loss: 0.233\n",
            "Epoch / Batch [9 / 20] - Val_Loss: 0.232\n",
            "Epoch / Batch [9 / 30] - Val_Loss: 0.231\n",
            "Epoch / Batch [9 / 40] - Val_Loss: 0.233\n",
            "Epoch / Batch [9 / 50] - Val_Loss: 0.234\n",
            "Epoch / Batch [10 / 100] - train_Loss: 0.231\n",
            "Epoch / Batch [10 / 200] - train_Loss: 0.233\n",
            "Epoch / Batch [10 / 300] - train_Loss: 0.231\n",
            "Epoch / Batch [10 / 10] - Val_Loss: 0.230\n",
            "Epoch / Batch [10 / 20] - Val_Loss: 0.232\n",
            "Epoch / Batch [10 / 30] - Val_Loss: 0.231\n",
            "Epoch / Batch [10 / 40] - Val_Loss: 0.229\n",
            "Epoch / Batch [10 / 50] - Val_Loss: 0.233\n"
          ],
          "name": "stdout"
        }
      ]
    },
    {
      "cell_type": "code",
      "metadata": {
        "id": "6NSb7jupIWix",
        "colab_type": "code",
        "outputId": "31326732-2aa6-4f7c-d680-055843666a23",
        "colab": {
          "base_uri": "https://localhost:8080/",
          "height": 265
        }
      },
      "source": [
        "plt.figure('training_loss VS validation_loss')\n",
        "plt.subplot(211)\n",
        "plt.plot(range(len(t_loss)),t_loss,color='blue',label='training_loss')\n",
        "plt.legend()\n",
        "plt.subplot(212)\n",
        "plt.plot(range(len(v_loss)),v_loss,color='green',label='validation_loss')\n",
        "plt.legend()\n",
        "plt.show()\n",
        "\n"
      ],
      "execution_count": 21,
      "outputs": [
        {
          "output_type": "display_data",
          "data": {
            "image/png": "[encoded data removed]",
            "text/plain": [
              "<Figure size 432x288 with 2 Axes>"
            ]
          },
          "metadata": {
            "tags": []
          }
        }
      ]
    },
    {
      "cell_type": "code",
      "metadata": {
        "colab_type": "code",
        "id": "cFoplA3A4Unp",
        "outputId": "18cc2172-c98f-42ec-b7aa-b70d9a0a62bf",
        "colab": {
          "base_uri": "https://localhost:8080/",
          "height": 34
        }
      },
      "source": [
        "# test model， 测试模型\n",
        "correct = 0\n",
        "total = 0\n",
        "\n",
        "# Why don't we need gradients? What happens if we do include gradients?\n",
        "with torch.no_grad():\n",
        "\n",
        "    # Iterate over the test set\n",
        "    for data in test_loader:\n",
        "          images, labels = data\n",
        "          \n",
        "          images = images.to(device)\n",
        "          labels = labels.to(device)\n",
        "\n",
        "          outputs = model_gpu(images)\n",
        "\n",
        "          # torch.max is an argmax operation\n",
        "          _, predicted = torch.max(outputs.data, 1)\n",
        "\n",
        "          total += labels.size(0)\n",
        "          correct += (predicted == labels).sum().item()\n",
        "\n",
        "print('Accuracy of the network on the test images: %d %%' % (100 * correct / total))\n"
      ],
      "execution_count": 22,
      "outputs": [
        {
          "output_type": "stream",
          "text": [
            "Accuracy of the network on the test images: 10 %\n"
          ],
          "name": "stdout"
        }
      ]
    },
    {
      "cell_type": "code",
      "metadata": {
        "colab_type": "code",
        "id": "udX-ibqE5hjA",
        "colab": {}
      },
      "source": [
        "torch.save(model_gpu,'./my_mnist_model.pt')"
      ],
      "execution_count": 0,
      "outputs": []
    },
    {
      "cell_type": "code",
      "metadata": {
        "colab_type": "code",
        "id": "zGByXUsM5lLE",
        "colab": {}
      },
      "source": [
        "cm = confusion_matrix(labels.cpu(), predicted.cpu()) \n",
        "cm"
      ],
      "execution_count": 0,
      "outputs": []
    },
    {
      "cell_type": "code",
      "metadata": {
        "colab_type": "code",
        "id": "BLMJ2Zcw5uPl",
        "colab": {}
      },
      "source": [
        "import itertools\n",
        "\n",
        "def plot_confusion_matrix(cm,\n",
        "                          classes,\n",
        "                          normalize=False,\n",
        "                          title='Confusion matrix',\n",
        "                          cmap=plt.cm.Blues):\n",
        "    \"\"\"\n",
        "    This function prints and plots the confusion matrix very prettily.\n",
        "    Normalization can be applied by setting `normalize=True`.\n",
        "    \"\"\"\n",
        "    if normalize:\n",
        "        cm = cm.astype('float') / cm.sum(axis=1)[:, np.newaxis]\n",
        "        print(\"Normalized confusion matrix\")\n",
        "    else:\n",
        "        print('Confusion matrix, without normalization')\n",
        "\n",
        "    plt.imshow(cm, interpolation='nearest', cmap=cmap)\n",
        "    plt.title(title)\n",
        "\n",
        "    # Specify the tick marks and axis text\n",
        "    tick_marks = np.arange(len(classes))\n",
        "    plt.xticks(tick_marks, classes, rotation=90)\n",
        "    plt.yticks(tick_marks, classes)\n",
        "\n",
        "    # The data formatting\n",
        "    \n",
        "    fmt = '.2f' if normalize else 'd'\n",
        "    thresh = cm.max() / 2.\n",
        "    \n",
        "    # Print the text of the matrix, adjusting text colour for display\n",
        "    for i, j in itertools.product(range(cm.shape[0]), range(cm.shape[1])):\n",
        "        plt.text(j, i, format(cm[i, j], fmt),\n",
        "                 horizontalalignment=\"center\",\n",
        "                 color=\"white\" if cm[i, j] > thresh else \"black\")\n",
        "\n",
        "    plt.ylabel('True label')\n",
        "    plt.xlabel('Predicted label')\n",
        "    plt.tight_layout()\n",
        "    plt.show()"
      ],
      "execution_count": 0,
      "outputs": []
    },
    {
      "cell_type": "code",
      "metadata": {
        "colab_type": "code",
        "id": "IAsVt9uT562B",
        "colab": {}
      },
      "source": [
        "plot_confusion_matrix(cm, classes)"
      ],
      "execution_count": 0,
      "outputs": []
    },
    {
      "cell_type": "markdown",
      "metadata": {
        "colab_type": "text",
        "id": "3tBA7zY8W_f0"
      },
      "source": [
        "**第二题，好像是这样做。。。。。**"
      ]
    },
    {
      "cell_type": "code",
      "metadata": {
        "colab_type": "code",
        "id": "Ut-iZmFnLLpQ",
        "colab": {}
      },
      "source": [
        "# 可视化卷积核在训练前，训练中，训练后  \n",
        "\n",
        "import numpy as np\n",
        "import matplotlib.pyplot as plt\n",
        "from torchvision import utils\n",
        "\n",
        "def visTensor(tensor, ch=0, allkernels=True, nrow=6, padding=1): \n",
        "    n,c,w,h = tensor.shape\n",
        "\n",
        "    if allkernels: \n",
        "      tensor = tensor.view(n*c, -1, w, h)\n",
        "    elif c != 3: tensor = tensor[:,ch,:,:].unsqueeze(dim=1)\n",
        "\n",
        "    rows = np.min((tensor.shape[0] // nrow + 1, 64))    \n",
        "    grid = utils.make_grid(tensor, nrow=nrow, normalize=True, padding=padding)\n",
        "    plt.figure( figsize=(nrow,rows) )\n",
        "    plt.imshow(grid.numpy().transpose((1, 2, 0)),cmap=\"gray\")\n",
        "\n",
        "\n",
        "f = model_gpu.conv1[0].weight.cpu().detach().clone()\n",
        "# filter1 = net.conv1[0].weight.data.clone()\n",
        "visTensor(f, ch=0, allkernels=True)\n",
        "plt.show()"
      ],
      "execution_count": 0,
      "outputs": []
    },
    {
      "cell_type": "markdown",
      "metadata": {
        "colab_type": "text",
        "id": "ExAinKlUUs2a"
      },
      "source": [
        "**第三题，可视化原始图像，第一层卷积中的4张图像，（卷积后，激活函数后，maxpooling后，dropout后）。。。。。**"
      ]
    },
    {
      "cell_type": "code",
      "metadata": {
        "colab_type": "code",
        "id": "Q7DC8DJbSehe",
        "colab": {}
      },
      "source": [
        "for data in test_loader:\n",
        "      images, labels = data\n",
        "\n",
        "print(type(images))\n",
        "\n",
        "images1 = images.numpy()\n",
        "\n",
        "img = np.squeeze(images1)\n",
        "print(img.shape)\n",
        "img = img[0,:,:,:]\n",
        "print(img.shape)\n",
        "pic = np.rollaxis(img,0,3)\n",
        "# print(pic.shape)\n",
        "\n",
        "plt.imshow(pic)"
      ],
      "execution_count": 0,
      "outputs": []
    },
    {
      "cell_type": "code",
      "metadata": {
        "colab_type": "code",
        "id": "WmmLSWxhYexH",
        "colab": {}
      },
      "source": [
        "#定义用于hook的类\n",
        "class LayerActivations():\n",
        "\t#定义这个变量用于储存结果\n",
        "\tfeatures = None\n",
        "\t#类初始化。当前向传播的时候（即图像数据通过层传输的时候），调用register_forward_hook方法。\n",
        "\t#register_forward_hook方法即为[钩子]，此方法返回一个句柄保存到self.hook\n",
        "\tdef __init__(self,model,layer_num):\n",
        "\t\tself.hook = model[layer_num].register_forward_hook(self.hook_fn)\n",
        "\t#hook函数具体执行的方法，即hook方法\n",
        "\t#register_forward_hook将三个参数传入hook_fn方法内\n",
        "\t#module:允许访问层本身 input:流进层的数据 output:层变换后的流出的数据或激活\n",
        "\tdef hook_fn(self,module,input,output):\n",
        "\t\t#将输出保存到[自己设置的features变量中]\n",
        "\t\tself.features = output.cpu()\n",
        "\t#注销句柄self.hook\n",
        "\tdef remove(self):\n",
        "\t\tself.hook.remove()\n",
        "\n",
        "#定义hook类实例\n",
        "conv_out = LayerActivations(net.conv2,0)  # 提出第一个卷积层的输出 \n",
        "\n",
        "#运行模型\n",
        "output = net(images)\n",
        "#注销函数\n",
        "conv_out.remove()\n",
        "\n",
        "# 在hook class中被保存到了features变量的即为输出，自己定义的\n",
        "activations = conv_out.features\n",
        "#activations 即为层输出\n",
        "\n",
        "#对其进行可视化\n",
        "fig = plt.figure(figsize=(20,50))\n",
        "fig.subplots_adjust(left=0,right=1,bottom=0,top=0.8,hspace=0,wspace=0.2)\n",
        "for i in range(30):\n",
        "   ax = fig.add_subplot(12,5,i+1,xticks=[],yticks=[])\n",
        "   ax.imshow(activations[0][i].detach().numpy())\n",
        "plt.show()"
      ],
      "execution_count": 0,
      "outputs": []
    }
  ]
}